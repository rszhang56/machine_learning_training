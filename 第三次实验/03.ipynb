{
 "cells": [
  {
   "cell_type": "code",
   "execution_count": 10,
   "metadata": {},
   "outputs": [
    {
     "data": {
      "image/png": "[encoded data removed]",
      "text/plain": [
       "<Figure size 432x288 with 1 Axes>"
      ]
     },
     "metadata": {
      "needs_background": "light"
     },
     "output_type": "display_data"
    }
   ],
   "source": [
    "#分别生成第一类，第二类，第三类数据点，使用SVM对其进行分类\n",
    "from sklearn.svm import SVC\n",
    "import matplotlib.pyplot as plt\n",
    "import numpy as np\n",
    "import math\n",
    "import random\n",
    "from sklearn.model_selection import train_test_split\n",
    "\n",
    "def mock_data(point_count=3, point_type=1):\n",
    "    points = []\n",
    "    labels = []\n",
    "    #point_type=1，生成的数据在平面上线性可分\n",
    "    if point_type == 1:\n",
    "        return [[1, 3], [2, 2.5], [3.5, 1]], [0, 0, 1]\n",
    "    #point_type=2，生成的数据基本线性可分，但是存在少许噪音\n",
    "    elif point_type == 2:\n",
    "        for i in range(point_count // 2):\n",
    "            point_x = random.uniform(0, 10)\n",
    "            point_y = random.uniform(point_x+1, 10)\n",
    "            points.append([point_x, point_y])\n",
    "            labels.append(0)\n",
    "        for i in range(point_count // 2):\n",
    "            point_y = random.uniform(0, 10)\n",
    "            point_x = random.uniform(point_y+1, 10)\n",
    "            points.append([point_x, point_y])\n",
    "            labels.append(1)\n",
    "        for i in range(point_count // 6):\n",
    "            point_y = random.uniform(0, 10)\n",
    "            point_x = random.uniform(0, 10)\n",
    "            points.append([point_x, point_y])\n",
    "            labels.append(random.choice([0, 1]))\n",
    "    #point_type=3，生成无法线性可分的数据\n",
    "    elif point_type == 3:\n",
    "        for i in range(point_count // 2):\n",
    "            point_x = random.uniform(-2, 2)\n",
    "            point_y = random.uniform(-math.sqrt(4-point_x*point_x), math.sqrt(4-point_x*point_x))\n",
    "            points.append([point_x, point_y])\n",
    "            labels.append(0)\n",
    "        for i in range(point_count // 2):\n",
    "            point_x = random.uniform(-2, 2)\n",
    "            point_y = random.choice([random.uniform(-4, -math.sqrt(4-point_x*point_x)), random.uniform(math.sqrt(4-point_x*point_x), 4)])\n",
    "            points.append([point_x, point_y])\n",
    "            labels.append(1)\n",
    "    return points, labels\n",
    "#绘制分类结果及超平面\n",
    "def plot_point(dataArr, labelArr, Support_vector_index, W=0, b=0):\n",
    "    for i in range(np.shape(dataArr)[0]):\n",
    "        if labelArr[i] == 1:\n",
    "            plt.scatter(dataArr[i][0], dataArr[i][1], c='b', s=20)\n",
    "        else:\n",
    "            plt.scatter(dataArr[i][0], dataArr[i][1], c='y', s=20)\n",
    "    for j in Support_vector_index:\n",
    "        plt.scatter(dataArr[j][0], dataArr[j][1], s=100, c='',edgecolors='r',  marker='o', alpha=0.5, linewidths=1)\n",
    "    x = np.arange(0, 10, 0.01)\n",
    "    y = (W[0][0] * x + b)/(-1 * W[0][1])\n",
    "    plt.scatter(x, y, s=5, marker='h')\n",
    "    plt.show()\n",
    "if __name__ == '__main__':\n",
    "    #分别生成第一类，第二类，第三类数据\n",
    "    #补充代码\n",
    "    #dataArr, labelArr = mock_data(3, 1)\n",
    "    #dataArr, labelArr = mock_data(30, 2)\n",
    "    dataArr, labelArr = mock_data(30, 3)\n",
    "\n",
    "    #定义SVM分类器，核函数定义为线性核函数，其他参数使用默认值\n",
    "    #补充代码\n",
    "    \n",
    "    clf = SVC(kernel = 'linear')\n",
    "    #fit训练数据\n",
    "    clf.fit(dataArr, labelArr)\n",
    "    #获取模型返回值\n",
    "    n_Support_vector = clf.n_support_   #支持向量个数\n",
    "    Support_vector_index = clf.support_ #支持向量索引\n",
    "    W = clf.coef_   #方向向量\n",
    "    b = clf.intercept_  #截距项b\n",
    "    #绘制分类超平面\n",
    "    plot_point(dataArr, labelArr, Support_vector_index, W, b)"
   ]
  },
  {
   "cell_type": "code",
   "execution_count": 4,
   "metadata": {},
   "outputs": [
    {
     "name": "stdout",
     "output_type": "stream",
     "text": [
      "0.3333333333333333\n",
      "0.8333333333333334\n",
      "0.5\n",
      "0.5\n"
     ]
    }
   ],
   "source": [
    "from sklearn.metrics import accuracy_score\n",
    "#修改mian函数，生成第三类数据点，并将数据集划分为训练集和测试集，训练集：测试集=8:2，计算在测试集上的准确率\n",
    "dataArr, labelArr = mock_data(30, 3)\n",
    "X_train, X_test, y_train, y_test = train_test_split(dataArr, labelArr, test_size=0.2, random_state=0)\n",
    "clf = SVC(kernel = 'linear')\n",
    "clf.fit(X_train, y_train)\n",
    "print(accuracy_score(y_test, clf.predict(X_test)))\n",
    "#测试三组数据，并输出准确率\n",
    "for i in range(3):\n",
    "    dataArr, labelArr = mock_data(30, 3)\n",
    "    X_train, X_test, y_train, y_test = train_test_split(dataArr, labelArr, test_size=0.2, random_state=i)\n",
    "    clf = SVC(kernel = 'linear')\n",
    "    clf.fit(X_train, y_train)\n",
    "    print(accuracy_score(y_test, clf.predict(X_test)))"
   ]
  },
  {
   "cell_type": "code",
   "execution_count": 46,
   "metadata": {},
   "outputs": [
    {
     "name": "stdout",
     "output_type": "stream",
     "text": [
      "1.0\n",
      "0.8333333333333334\n",
      "1.0\n"
     ]
    }
   ],
   "source": [
    "#将SVM的参数中的核函数修改为rbf，测试若干组数据，观察并分析准确率\n",
    "for i in range(3):\n",
    "    dataArr, labelArr = mock_data(30, 3)\n",
    "    X_train, X_test, y_train, y_test = train_test_split(dataArr, labelArr, test_size=0.2, random_state=i)\n",
    "    clf = SVC(kernel = 'rbf')\n",
    "    clf.fit(X_train, y_train)\n",
    "    print(accuracy_score(y_test, clf.predict(X_test)))"
   ]
  },
  {
   "cell_type": "code",
   "execution_count": 7,
   "metadata": {},
   "outputs": [
    {
     "name": "stdout",
     "output_type": "stream",
     "text": [
      "0.9666666666666667\n",
      "{'C': 0.6, 'gamma': 'auto', 'kernel': 'linear'} 0.9833333333333333\n",
      "1.0\n"
     ]
    }
   ],
   "source": [
    "from sklearn import datasets, metrics\n",
    "import pandas as pd\n",
    "from sklearn.model_selection import GridSearchCV\n",
    "\n",
    "#对sklearn中的鸢尾花数据集使用SVM库进行分类\n",
    "def prepare_data():\n",
    "    iris = datasets.load_iris()\n",
    "    X = pd.DataFrame(iris['data'], columns = iris['feature_names'])\n",
    "    y = pd.DataFrame(iris['target'])\n",
    "    return X,y\n",
    "\n",
    "X,y=prepare_data()\n",
    "X_train, X_test, y_train, y_test = train_test_split(X, y, test_size=0.2, random_state=2021)\n",
    "clf = SVC(kernel = 'linear')\n",
    "clf.fit(X_train, y_train.values.ravel())\n",
    "print(accuracy_score(y_test, clf.predict(X_test)))\n",
    "\n",
    "\n",
    "tree_param_grid = { 'kernel': ['rbf', 'linear', 'sigmoid', 'poly'], 'C': [0.5, 0.6, 0.8, 1.0, 2.0]\n",
    "                   ,'gamma': ['auto', 0.001]}\n",
    "grid = GridSearchCV(SVC(max_iter = -1),param_grid=tree_param_grid, scoring = 'accuracy', cv = 5)\n",
    "grid.fit(X_train, y_train.values.ravel())\n",
    "print(grid.best_params_, grid.best_score_)\n",
    "clf_best = grid.best_estimator_\n",
    "print(accuracy_score(y_test, clf_best.predict(X_test)))"
   ]
  },
  {
   "cell_type": "code",
   "execution_count": 9,
   "metadata": {},
   "outputs": [
    {
     "name": "stdout",
     "output_type": "stream",
     "text": [
      "0.5351851851851852\n",
      "{'C': 2.0, 'gamma': 0.001, 'kernel': 'rbf'} 0.9904534606205251\n",
      "0.987037037037037\n"
     ]
    }
   ],
   "source": [
    "#用SVM 实现MNIST手写数字图像识别，观察不同的参数对结果的影响并尝试尽可能提高准确率，并对实验结果进行对比分析。\n",
    "from sklearn.metrics import accuracy_score\n",
    "from sklearn.svm import SVC\n",
    "from sklearn.model_selection import train_test_split\n",
    "from sklearn.model_selection import GridSearchCV\n",
    "from sklearn.datasets import load_digits\n",
    "\n",
    "mnist=load_digits()\n",
    "X = mnist.data\n",
    "y = mnist.target\n",
    "X_train, X_test, y_train, y_test = train_test_split(X, y, test_size=0.3, random_state=2021)\n",
    "clf = SVC(kernel = 'rbf')\n",
    "clf.fit(X_train, y_train)\n",
    "print(accuracy_score(y_test, clf.predict(X_test)))\n",
    "\n",
    "tree_param_grid = { 'kernel': ['rbf', 'linear', 'sigmoid', 'poly'], 'C': [0.5, 0.6, 0.8, 1.0, 2.0]\n",
    "                   ,'gamma': ['auto', 0.001]}\n",
    "grid = GridSearchCV(SVC(max_iter = -1),param_grid=tree_param_grid, scoring = 'accuracy', cv = 5)\n",
    "grid.fit(X_train, y_train)\n",
    "print(grid.best_params_, grid.best_score_)\n",
    "clf_best = grid.best_estimator_\n",
    "print(accuracy_score(y_test, clf_best.predict(X_test)))"
   ]
  },
  {
   "cell_type": "code",
   "execution_count": null,
   "metadata": {},
   "outputs": [],
   "source": []
  }
 ],
 "metadata": {
  "kernelspec": {
   "display_name": "Python 3",
   "language": "python",
   "name": "python3"
  },
  "language_info": {
   "codemirror_mode": {
    "name": "ipython",
    "version": 3
   },
   "file_extension": ".py",
   "mimetype": "text/x-python",
   "name": "python",
   "nbconvert_exporter": "python",
   "pygments_lexer": "ipython3",
   "version": "3.6.2"
  }
 },
 "nbformat": 4,
 "nbformat_minor": 2
}
