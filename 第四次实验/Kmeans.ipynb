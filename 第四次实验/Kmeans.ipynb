{
 "cells": [
  {
   "cell_type": "code",
   "execution_count": 1,
   "metadata": {
    "collapsed": true
   },
   "outputs": [],
   "source": [
    "import numpy as np"
   ]
  },
  {
   "cell_type": "code",
   "execution_count": null,
   "metadata": {
    "collapsed": true
   },
   "outputs": [],
   "source": [
    "def k_means(x, k=3):\n",
    "    index_list = np.arange(len(x))\n",
    "    np.random.shuffle(index_list)\n",
    "    centroids_index = index_list[:k]\n",
    "    centroids = x[centroids_index]\n",
    "    y = np.arange(len(x))\n",
    "    iter_num = 10 #自行设置迭代次数\n",
    "    for i in range(iter_num):\n",
    "        y_new = np.arange(len(x))\n",
    "        for i, xi in enumerate(x):\n",
    "            y_new[i] = np.argmin(np.linarg.norm(), axis = 1)\n",
    "                        '''\n",
    "                        补充代码，计算x中每个点属于哪个簇心，计算距\n",
    "                        离用np.linalg.norm()，计算簇心用np.argmin()\n",
    "                        '''\n",
    "        for j in range(k):\n",
    "                        '''\n",
    "                        补充代码，重新计算簇心，使用np.mean\n",
    "                        '''\n",
    "        y = y_new.copy()\n",
    "    return y"
   ]
  },
  {
   "cell_type": "code",
   "execution_count": 9,
   "metadata": {
    "collapsed": false
   },
   "outputs": [
    {
     "data": {
      "text/plain": [
       "array([0, 1, 2, 3, 4, 5, 6, 7, 8, 9])"
      ]
     },
     "execution_count": 9,
     "metadata": {},
     "output_type": "execute_result"
    }
   ],
   "source": [
    "y_new = np.arange(10)\n",
    "y_new"
   ]
  },
  {
   "cell_type": "code",
   "execution_count": 17,
   "metadata": {
    "collapsed": false
   },
   "outputs": [
    {
     "data": {
      "text/plain": [
       "array([ 5.,  5., 13.])"
      ]
     },
     "execution_count": 17,
     "metadata": {},
     "output_type": "execute_result"
    }
   ],
   "source": [
    "c = np.array([[ 4, 3],\n",
    "              [-4, 3], [5,12]])\n",
    "np.linalg.norm(c, axis = 1)"
   ]
  },
  {
   "cell_type": "code",
   "execution_count": 21,
   "metadata": {
    "collapsed": false
   },
   "outputs": [
    {
     "name": "stdout",
     "output_type": "stream",
     "text": [
      "3\n",
      "4\n"
     ]
    }
   ],
   "source": [
    "for i in range(3, 5):\n",
    "    print(i)\n"
   ]
  },
  {
   "cell_type": "code",
   "execution_count": null,
   "metadata": {
    "collapsed": true
   },
   "outputs": [],
   "source": []
  }
 ],
 "metadata": {
  "kernelspec": {
   "display_name": "Python 3",
   "language": "python",
   "name": "python3"
  },
  "language_info": {
   "codemirror_mode": {
    "name": "ipython",
    "version": 3
   },
   "file_extension": ".py",
   "mimetype": "text/x-python",
   "name": "python",
   "nbconvert_exporter": "python",
   "pygments_lexer": "ipython3",
   "version": "3.4.5"
  }
 },
 "nbformat": 4,
 "nbformat_minor": 2
}
